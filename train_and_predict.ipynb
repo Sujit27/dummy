{
  "nbformat": 4,
  "nbformat_minor": 0,
  "metadata": {
    "colab": {
      "name": "train-and-predict.ipynb",
      "provenance": [],
      "collapsed_sections": [],
      "authorship_tag": "ABX9TyOS370qaY3UU2E5KeCe5Xua",
      "include_colab_link": true
    },
    "kernelspec": {
      "name": "python3",
      "display_name": "Python 3"
    },
    "language_info": {
      "name": "python"
    }
  },
  "cells": [
    {
      "cell_type": "markdown",
      "metadata": {
        "id": "view-in-github",
        "colab_type": "text"
      },
      "source": [
        "<a href=\"https://colab.research.google.com/github/Sujit27/dummy/blob/main/train_and_predict.ipynb\" target=\"_parent\"><img src=\"https://colab.research.google.com/assets/colab-badge.svg\" alt=\"Open In Colab\"/></a>"
      ]
    },
    {
      "cell_type": "markdown",
      "source": [
        "## This notebook fits the training data and does inference on the validation set ##"
      ],
      "metadata": {
        "id": "Fe6NU_WeBUVv"
      }
    },
    {
      "cell_type": "code",
      "execution_count": 10,
      "metadata": {
        "id": "9UV3KmRcOiAd"
      },
      "outputs": [],
      "source": [
        "import numpy\n",
        "import pandas as pd\n",
        "import sklearn\n",
        "import os"
      ]
    },
    {
      "cell_type": "code",
      "source": [
        "from google.colab import drive\n",
        "drive.mount('/content/drive')"
      ],
      "metadata": {
        "colab": {
          "base_uri": "https://localhost:8080/"
        },
        "id": "kq2Yb_JkOvMk",
        "outputId": "1ee9fad0-c51e-4b65-d852-857ca78cc168"
      },
      "execution_count": 11,
      "outputs": [
        {
          "output_type": "stream",
          "name": "stdout",
          "text": [
            "Drive already mounted at /content/drive; to attempt to forcibly remount, call drive.mount(\"/content/drive\", force_remount=True).\n"
          ]
        }
      ]
    },
    {
      "cell_type": "code",
      "source": [
        "from sklearn.model_selection import train_test_split\n",
        "from sklearn.linear_model import LogisticRegression\n",
        "from sklearn.ensemble import RandomForestClassifier\n",
        "from sklearn import metrics\n",
        "from sklearn.metrics import confusion_matrix\n",
        "from sklearn.metrics import f1_score\n",
        "import seaborn as sn\n",
        "from numpy import genfromtxt"
      ],
      "metadata": {
        "id": "2MF2L-PqO6vP"
      },
      "execution_count": 12,
      "outputs": []
    },
    {
      "cell_type": "code",
      "source": [
        "def evaluate(input_csv_file,label_csv_file,method='logistic_regression'):\n",
        "  '''\n",
        "  Function that takes as input the training X and y arrays as csv files\n",
        "  and returns confusion matrix and F1-score\n",
        "  '''\n",
        "  X = genfromtxt(input_csv_file, delimiter=',')\n",
        "  Y = genfromtxt(label_csv_file, delimiter=',')\n",
        "\n",
        "  X_train,X_test,y_train,y_test = train_test_split(X,Y,test_size=0.2,random_state=0)\n",
        "  if method == 'logistic_regression':\n",
        "    model = LogisticRegression(max_iter=10000)\n",
        "\n",
        "  elif  method == 'random_forest':\n",
        "    model = RandomForestClassifier(max_depth=2, random_state=0)\n",
        "\n",
        "  else:\n",
        "    print(\"method not defined\")\n",
        "    return 0\n",
        "\n",
        "  model.fit(X_train,y_train)\n",
        "  y_pred=model.predict(X_test)\n",
        "\n",
        "  conf_mat = confusion_matrix(y_test,y_pred)\n",
        "  score = f1_score(y_test,y_pred)\n",
        "\n",
        "  return conf_mat, score"
      ],
      "metadata": {
        "id": "-nhUhgXLcZmV"
      },
      "execution_count": 13,
      "outputs": []
    },
    {
      "cell_type": "markdown",
      "source": [
        "### Evaluate models on raw and preprocessed training data ###"
      ],
      "metadata": {
        "id": "AKub0NLDDCc4"
      }
    },
    {
      "cell_type": "code",
      "source": [
        "input_csv_file = 'drive/MyDrive/arya.ai-assignment/x_raw.csv'\n",
        "label_csv_file = 'drive/MyDrive/arya.ai-assignment/y_raw.csv'\n",
        "conf_mat, score = evaluate(input_csv_file,label_csv_file)\n",
        "print(conf_mat)\n",
        "print(score)"
      ],
      "metadata": {
        "colab": {
          "base_uri": "https://localhost:8080/"
        },
        "id": "s8xEtIkFd3mK",
        "outputId": "86c97082-4c05-4578-9473-5d9138e92900"
      },
      "execution_count": 14,
      "outputs": [
        {
          "output_type": "stream",
          "name": "stdout",
          "text": [
            "[[469  25]\n",
            " [ 27 261]]\n",
            "0.9094076655052266\n"
          ]
        }
      ]
    },
    {
      "cell_type": "code",
      "source": [
        "input_csv_file = 'drive/MyDrive/arya.ai-assignment/x_normalized.csv'\n",
        "label_csv_file = 'drive/MyDrive/arya.ai-assignment/y_raw.csv'\n",
        "conf_mat, score = evaluate(input_csv_file,label_csv_file)\n",
        "print(conf_mat)\n",
        "print(score)"
      ],
      "metadata": {
        "colab": {
          "base_uri": "https://localhost:8080/"
        },
        "id": "cDtRWMfFcRxD",
        "outputId": "a981e18a-c31d-4e35-8c56-8d498d0deeea"
      },
      "execution_count": 15,
      "outputs": [
        {
          "output_type": "stream",
          "name": "stdout",
          "text": [
            "[[468  26]\n",
            " [ 51 237]]\n",
            "0.8602540834845734\n"
          ]
        }
      ]
    },
    {
      "cell_type": "code",
      "source": [
        "input_csv_file = 'drive/MyDrive/arya.ai-assignment/x_standardized.csv'\n",
        "label_csv_file = 'drive/MyDrive/arya.ai-assignment/y_raw.csv'\n",
        "conf_mat, score = evaluate(input_csv_file,label_csv_file)\n",
        "print(conf_mat)\n",
        "print(score)"
      ],
      "metadata": {
        "colab": {
          "base_uri": "https://localhost:8080/"
        },
        "id": "uxImPUUMemrs",
        "outputId": "5edb8668-dd75-4979-9885-671b76801856"
      },
      "execution_count": 16,
      "outputs": [
        {
          "output_type": "stream",
          "name": "stdout",
          "text": [
            "[[470  24]\n",
            " [ 29 259]]\n",
            "0.9071803852889666\n"
          ]
        }
      ]
    },
    {
      "cell_type": "code",
      "source": [
        "input_csv_file = 'drive/MyDrive/arya.ai-assignment/x_selected.csv'\n",
        "label_csv_file = 'drive/MyDrive/arya.ai-assignment/y_raw.csv'\n",
        "conf_mat, score = evaluate(input_csv_file,label_csv_file)\n",
        "print(conf_mat)\n",
        "print(score)"
      ],
      "metadata": {
        "colab": {
          "base_uri": "https://localhost:8080/"
        },
        "id": "Hv2iaYes-VH_",
        "outputId": "be5220b4-e3cf-44dc-ba18-14a76179eaf4"
      },
      "execution_count": 17,
      "outputs": [
        {
          "output_type": "stream",
          "name": "stdout",
          "text": [
            "[[468  26]\n",
            " [ 38 250]]\n",
            "0.8865248226950354\n"
          ]
        }
      ]
    },
    {
      "cell_type": "code",
      "source": [
        "input_csv_file = 'drive/MyDrive/arya.ai-assignment/x_pca.csv'\n",
        "label_csv_file = 'drive/MyDrive/arya.ai-assignment/y_raw.csv'\n",
        "conf_mat, score = evaluate(input_csv_file,label_csv_file)\n",
        "print(conf_mat)\n",
        "print(score)"
      ],
      "metadata": {
        "colab": {
          "base_uri": "https://localhost:8080/"
        },
        "id": "9I1xJPm2ArKU",
        "outputId": "70ffdfbe-957e-4ece-d66a-051418ec849f"
      },
      "execution_count": 19,
      "outputs": [
        {
          "output_type": "stream",
          "name": "stdout",
          "text": [
            "[[449  45]\n",
            " [144 144]]\n",
            "0.6037735849056604\n"
          ]
        }
      ]
    },
    {
      "cell_type": "code",
      "source": [
        "input_csv_file = 'drive/MyDrive/arya.ai-assignment/x_raw.csv'\n",
        "label_csv_file = 'drive/MyDrive/arya.ai-assignment/y_raw.csv'\n",
        "conf_mat, score = evaluate(input_csv_file,label_csv_file,method='random_forest')\n",
        "print(conf_mat)\n",
        "print(score)"
      ],
      "metadata": {
        "id": "r2-knnQAesza",
        "colab": {
          "base_uri": "https://localhost:8080/"
        },
        "outputId": "0ffca55f-b6cc-4e2e-a9b5-dd5a41a23a90"
      },
      "execution_count": 18,
      "outputs": [
        {
          "output_type": "stream",
          "name": "stdout",
          "text": [
            "[[478  16]\n",
            " [ 70 218]]\n",
            "0.8352490421455939\n"
          ]
        }
      ]
    },
    {
      "cell_type": "code",
      "source": [
        ""
      ],
      "metadata": {
        "id": "h9snbpCY54b3"
      },
      "execution_count": 18,
      "outputs": []
    }
  ]
}